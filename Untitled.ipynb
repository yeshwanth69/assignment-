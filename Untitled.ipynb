{
 "cells": [
  {
   "cell_type": "code",
   "execution_count": 1,
   "metadata": {},
   "outputs": [],
   "source": [
    "import numpy as np\n",
    "import pandas as pd\n",
    "import matplotlib.pyplot as plt\n",
    "import seaborn as sns\n",
    "from sklearn.model_selection import train_test_split\n",
    "from sklearn import linear_model\n",
    "from sklearn.metrics import mean_squared_error, r2_score, mean_absolute_error\n",
    "from scipy import stats\n",
    "import statsmodels.api as sm\n",
    "from statsmodels.stats import diagnostic as diag\n",
    "from statsmodels.stats.outliers_influence import variance_inflation_factor\n",
    "from sklearn.preprocessing import PolynomialFeatures\n",
    "from sklearn.preprocessing import StandardScaler\n",
    "from sklearn.pipeline import Pipeline\n",
    "import warnings"
   ]
  },
  {
   "cell_type": "markdown",
   "metadata": {},
   "source": [
    "# Multivariate linear regression model"
   ]
  },
  {
   "cell_type": "code",
   "execution_count": 2,
   "metadata": {},
   "outputs": [
    {
     "data": {
      "text/html": [
       "<div>\n",
       "<style scoped>\n",
       "    .dataframe tbody tr th:only-of-type {\n",
       "        vertical-align: middle;\n",
       "    }\n",
       "\n",
       "    .dataframe tbody tr th {\n",
       "        vertical-align: top;\n",
       "    }\n",
       "\n",
       "    .dataframe thead th {\n",
       "        text-align: right;\n",
       "    }\n",
       "</style>\n",
       "<table border=\"1\" class=\"dataframe\">\n",
       "  <thead>\n",
       "    <tr style=\"text-align: right;\">\n",
       "      <th></th>\n",
       "      <th>PRICE</th>\n",
       "      <th>HEIGHT</th>\n",
       "      <th>WIDTH</th>\n",
       "      <th>SIGNED</th>\n",
       "      <th>PICTURE</th>\n",
       "      <th>HOUSE</th>\n",
       "      <th>Area =H * W</th>\n",
       "      <th>norm SIGNED</th>\n",
       "      <th>norm PICTURE</th>\n",
       "      <th>norm HOUUSE</th>\n",
       "      <th>norm HEIGHT</th>\n",
       "      <th>norm WIDTH</th>\n",
       "      <th>norm Area</th>\n",
       "    </tr>\n",
       "  </thead>\n",
       "  <tbody>\n",
       "    <tr>\n",
       "      <th>0</th>\n",
       "      <td>3.993780</td>\n",
       "      <td>21.3</td>\n",
       "      <td>25.6</td>\n",
       "      <td>1</td>\n",
       "      <td>1</td>\n",
       "      <td>1</td>\n",
       "      <td>545.28</td>\n",
       "      <td>0.1</td>\n",
       "      <td>0.001</td>\n",
       "      <td>0.1</td>\n",
       "      <td>0.213</td>\n",
       "      <td>0.256</td>\n",
       "      <td>0.054528</td>\n",
       "    </tr>\n",
       "    <tr>\n",
       "      <th>1</th>\n",
       "      <td>8.800000</td>\n",
       "      <td>31.9</td>\n",
       "      <td>25.6</td>\n",
       "      <td>1</td>\n",
       "      <td>2</td>\n",
       "      <td>2</td>\n",
       "      <td>816.64</td>\n",
       "      <td>0.1</td>\n",
       "      <td>0.002</td>\n",
       "      <td>0.2</td>\n",
       "      <td>0.319</td>\n",
       "      <td>0.256</td>\n",
       "      <td>0.081664</td>\n",
       "    </tr>\n",
       "    <tr>\n",
       "      <th>2</th>\n",
       "      <td>0.131694</td>\n",
       "      <td>6.9</td>\n",
       "      <td>15.9</td>\n",
       "      <td>0</td>\n",
       "      <td>3</td>\n",
       "      <td>3</td>\n",
       "      <td>109.71</td>\n",
       "      <td>0.0</td>\n",
       "      <td>0.003</td>\n",
       "      <td>0.3</td>\n",
       "      <td>0.069</td>\n",
       "      <td>0.159</td>\n",
       "      <td>0.010971</td>\n",
       "    </tr>\n",
       "    <tr>\n",
       "      <th>3</th>\n",
       "      <td>2.037500</td>\n",
       "      <td>25.7</td>\n",
       "      <td>32.0</td>\n",
       "      <td>1</td>\n",
       "      <td>4</td>\n",
       "      <td>2</td>\n",
       "      <td>822.40</td>\n",
       "      <td>0.1</td>\n",
       "      <td>0.004</td>\n",
       "      <td>0.2</td>\n",
       "      <td>0.257</td>\n",
       "      <td>0.320</td>\n",
       "      <td>0.082240</td>\n",
       "    </tr>\n",
       "    <tr>\n",
       "      <th>4</th>\n",
       "      <td>1.487500</td>\n",
       "      <td>25.7</td>\n",
       "      <td>32.0</td>\n",
       "      <td>1</td>\n",
       "      <td>4</td>\n",
       "      <td>2</td>\n",
       "      <td>822.40</td>\n",
       "      <td>0.1</td>\n",
       "      <td>0.004</td>\n",
       "      <td>0.2</td>\n",
       "      <td>0.257</td>\n",
       "      <td>0.320</td>\n",
       "      <td>0.082240</td>\n",
       "    </tr>\n",
       "    <tr>\n",
       "      <th>...</th>\n",
       "      <td>...</td>\n",
       "      <td>...</td>\n",
       "      <td>...</td>\n",
       "      <td>...</td>\n",
       "      <td>...</td>\n",
       "      <td>...</td>\n",
       "      <td>...</td>\n",
       "      <td>...</td>\n",
       "      <td>...</td>\n",
       "      <td>...</td>\n",
       "      <td>...</td>\n",
       "      <td>...</td>\n",
       "      <td>...</td>\n",
       "    </tr>\n",
       "    <tr>\n",
       "      <th>425</th>\n",
       "      <td>5.282500</td>\n",
       "      <td>25.6</td>\n",
       "      <td>39.4</td>\n",
       "      <td>1</td>\n",
       "      <td>375</td>\n",
       "      <td>1</td>\n",
       "      <td>1008.64</td>\n",
       "      <td>0.1</td>\n",
       "      <td>0.375</td>\n",
       "      <td>0.1</td>\n",
       "      <td>0.256</td>\n",
       "      <td>0.394</td>\n",
       "      <td>0.100864</td>\n",
       "    </tr>\n",
       "    <tr>\n",
       "      <th>426</th>\n",
       "      <td>9.352500</td>\n",
       "      <td>25.9</td>\n",
       "      <td>39.6</td>\n",
       "      <td>1</td>\n",
       "      <td>375</td>\n",
       "      <td>2</td>\n",
       "      <td>1025.64</td>\n",
       "      <td>0.1</td>\n",
       "      <td>0.375</td>\n",
       "      <td>0.2</td>\n",
       "      <td>0.259</td>\n",
       "      <td>0.396</td>\n",
       "      <td>0.102564</td>\n",
       "    </tr>\n",
       "    <tr>\n",
       "      <th>427</th>\n",
       "      <td>8.252500</td>\n",
       "      <td>25.6</td>\n",
       "      <td>39.6</td>\n",
       "      <td>1</td>\n",
       "      <td>375</td>\n",
       "      <td>1</td>\n",
       "      <td>1013.76</td>\n",
       "      <td>0.1</td>\n",
       "      <td>0.375</td>\n",
       "      <td>0.1</td>\n",
       "      <td>0.256</td>\n",
       "      <td>0.396</td>\n",
       "      <td>0.101376</td>\n",
       "    </tr>\n",
       "    <tr>\n",
       "      <th>428</th>\n",
       "      <td>3.410000</td>\n",
       "      <td>25.6</td>\n",
       "      <td>39.4</td>\n",
       "      <td>1</td>\n",
       "      <td>386</td>\n",
       "      <td>2</td>\n",
       "      <td>1008.64</td>\n",
       "      <td>0.1</td>\n",
       "      <td>0.386</td>\n",
       "      <td>0.2</td>\n",
       "      <td>0.256</td>\n",
       "      <td>0.394</td>\n",
       "      <td>0.100864</td>\n",
       "    </tr>\n",
       "    <tr>\n",
       "      <th>429</th>\n",
       "      <td>1.542500</td>\n",
       "      <td>25.7</td>\n",
       "      <td>32.0</td>\n",
       "      <td>1</td>\n",
       "      <td>387</td>\n",
       "      <td>1</td>\n",
       "      <td>822.40</td>\n",
       "      <td>0.1</td>\n",
       "      <td>0.387</td>\n",
       "      <td>0.1</td>\n",
       "      <td>0.257</td>\n",
       "      <td>0.320</td>\n",
       "      <td>0.082240</td>\n",
       "    </tr>\n",
       "  </tbody>\n",
       "</table>\n",
       "<p>430 rows × 13 columns</p>\n",
       "</div>"
      ],
      "text/plain": [
       "        PRICE  HEIGHT  WIDTH  SIGNED  PICTURE  HOUSE   Area =H * W  \\\n",
       "0    3.993780    21.3   25.6       1        1       1       545.28   \n",
       "1    8.800000    31.9   25.6       1        2       2       816.64   \n",
       "2    0.131694     6.9   15.9       0        3       3       109.71   \n",
       "3    2.037500    25.7   32.0       1        4       2       822.40   \n",
       "4    1.487500    25.7   32.0       1        4       2       822.40   \n",
       "..        ...     ...    ...     ...      ...     ...          ...   \n",
       "425  5.282500    25.6   39.4       1      375       1      1008.64   \n",
       "426  9.352500    25.9   39.6       1      375       2      1025.64   \n",
       "427  8.252500    25.6   39.6       1      375       1      1013.76   \n",
       "428  3.410000    25.6   39.4       1      386       2      1008.64   \n",
       "429  1.542500    25.7   32.0       1      387       1       822.40   \n",
       "\n",
       "     norm SIGNED  norm PICTURE  norm HOUUSE  norm HEIGHT  norm WIDTH  \\\n",
       "0            0.1         0.001          0.1        0.213       0.256   \n",
       "1            0.1         0.002          0.2        0.319       0.256   \n",
       "2            0.0         0.003          0.3        0.069       0.159   \n",
       "3            0.1         0.004          0.2        0.257       0.320   \n",
       "4            0.1         0.004          0.2        0.257       0.320   \n",
       "..           ...           ...          ...          ...         ...   \n",
       "425          0.1         0.375          0.1        0.256       0.394   \n",
       "426          0.1         0.375          0.2        0.259       0.396   \n",
       "427          0.1         0.375          0.1        0.256       0.396   \n",
       "428          0.1         0.386          0.2        0.256       0.394   \n",
       "429          0.1         0.387          0.1        0.257       0.320   \n",
       "\n",
       "     norm Area  \n",
       "0     0.054528  \n",
       "1     0.081664  \n",
       "2     0.010971  \n",
       "3     0.082240  \n",
       "4     0.082240  \n",
       "..         ...  \n",
       "425   0.100864  \n",
       "426   0.102564  \n",
       "427   0.101376  \n",
       "428   0.100864  \n",
       "429   0.082240  \n",
       "\n",
       "[430 rows x 13 columns]"
      ]
     },
     "execution_count": 2,
     "metadata": {},
     "output_type": "execute_result"
    }
   ],
   "source": [
    "#The below code is used to load the dataset.\n",
    "df = pd.read_csv('monet.csv')\n",
    "df"
   ]
  },
  {
   "cell_type": "code",
   "execution_count": 3,
   "metadata": {},
   "outputs": [
    {
     "data": {
      "text/plain": [
       "PRICE           float64\n",
       "HEIGHT          float64\n",
       "WIDTH           float64\n",
       "SIGNED            int64\n",
       "PICTURE           int64\n",
       "HOUSE             int64\n",
       "Area =H * W     float64\n",
       "norm SIGNED     float64\n",
       "norm PICTURE    float64\n",
       "norm HOUUSE     float64\n",
       "norm HEIGHT     float64\n",
       "norm WIDTH      float64\n",
       "norm Area       float64\n",
       "dtype: object"
      ]
     },
     "execution_count": 3,
     "metadata": {},
     "output_type": "execute_result"
    }
   ],
   "source": [
    "%matplotlib inline\n",
    "# Data Types\n",
    "df.dtypes"
   ]
  },
  {
   "cell_type": "code",
   "execution_count": 4,
   "metadata": {},
   "outputs": [
    {
     "name": "stdout",
     "output_type": "stream",
     "text": [
      "<class 'pandas.core.frame.DataFrame'>\n",
      "RangeIndex: 430 entries, 0 to 429\n",
      "Data columns (total 13 columns):\n",
      " #   Column        Non-Null Count  Dtype  \n",
      "---  ------        --------------  -----  \n",
      " 0   PRICE         430 non-null    float64\n",
      " 1   HEIGHT        430 non-null    float64\n",
      " 2   WIDTH         430 non-null    float64\n",
      " 3   SIGNED        430 non-null    int64  \n",
      " 4   PICTURE       430 non-null    int64  \n",
      " 5   HOUSE         430 non-null    int64  \n",
      " 6   Area =H * W   430 non-null    float64\n",
      " 7   norm SIGNED   430 non-null    float64\n",
      " 8   norm PICTURE  430 non-null    float64\n",
      " 9   norm HOUUSE   430 non-null    float64\n",
      " 10  norm HEIGHT   430 non-null    float64\n",
      " 11  norm WIDTH    430 non-null    float64\n",
      " 12  norm Area     430 non-null    float64\n",
      "dtypes: float64(10), int64(3)\n",
      "memory usage: 43.8 KB\n"
     ]
    },
    {
     "data": {
      "text/html": [
       "<div>\n",
       "<style scoped>\n",
       "    .dataframe tbody tr th:only-of-type {\n",
       "        vertical-align: middle;\n",
       "    }\n",
       "\n",
       "    .dataframe tbody tr th {\n",
       "        vertical-align: top;\n",
       "    }\n",
       "\n",
       "    .dataframe thead th {\n",
       "        text-align: right;\n",
       "    }\n",
       "</style>\n",
       "<table border=\"1\" class=\"dataframe\">\n",
       "  <thead>\n",
       "    <tr style=\"text-align: right;\">\n",
       "      <th></th>\n",
       "      <th>PRICE</th>\n",
       "      <th>HEIGHT</th>\n",
       "      <th>WIDTH</th>\n",
       "      <th>SIGNED</th>\n",
       "      <th>PICTURE</th>\n",
       "      <th>HOUSE</th>\n",
       "      <th>Area =H * W</th>\n",
       "      <th>norm SIGNED</th>\n",
       "      <th>norm PICTURE</th>\n",
       "      <th>norm HOUUSE</th>\n",
       "      <th>norm HEIGHT</th>\n",
       "      <th>norm WIDTH</th>\n",
       "      <th>norm Area</th>\n",
       "    </tr>\n",
       "  </thead>\n",
       "  <tbody>\n",
       "    <tr>\n",
       "      <th>count</th>\n",
       "      <td>430.000000</td>\n",
       "      <td>430.000000</td>\n",
       "      <td>430.000000</td>\n",
       "      <td>430.000000</td>\n",
       "      <td>430.000000</td>\n",
       "      <td>430.000000</td>\n",
       "      <td>430.000000</td>\n",
       "      <td>430.000000</td>\n",
       "      <td>430.000000</td>\n",
       "      <td>430.000000</td>\n",
       "      <td>430.00000</td>\n",
       "      <td>430.000000</td>\n",
       "      <td>430.000000</td>\n",
       "    </tr>\n",
       "    <tr>\n",
       "      <th>mean</th>\n",
       "      <td>3.089996</td>\n",
       "      <td>27.646977</td>\n",
       "      <td>32.111395</td>\n",
       "      <td>0.820930</td>\n",
       "      <td>182.644186</td>\n",
       "      <td>1.611628</td>\n",
       "      <td>940.811558</td>\n",
       "      <td>0.082093</td>\n",
       "      <td>0.182644</td>\n",
       "      <td>0.161163</td>\n",
       "      <td>0.27647</td>\n",
       "      <td>0.321114</td>\n",
       "      <td>0.094081</td>\n",
       "    </tr>\n",
       "    <tr>\n",
       "      <th>std</th>\n",
       "      <td>4.311260</td>\n",
       "      <td>10.097013</td>\n",
       "      <td>10.459677</td>\n",
       "      <td>0.383857</td>\n",
       "      <td>109.091529</td>\n",
       "      <td>0.591592</td>\n",
       "      <td>676.539289</td>\n",
       "      <td>0.038386</td>\n",
       "      <td>0.109092</td>\n",
       "      <td>0.059159</td>\n",
       "      <td>0.10097</td>\n",
       "      <td>0.104597</td>\n",
       "      <td>0.067654</td>\n",
       "    </tr>\n",
       "    <tr>\n",
       "      <th>min</th>\n",
       "      <td>0.010413</td>\n",
       "      <td>3.900000</td>\n",
       "      <td>6.700000</td>\n",
       "      <td>0.000000</td>\n",
       "      <td>1.000000</td>\n",
       "      <td>1.000000</td>\n",
       "      <td>26.130000</td>\n",
       "      <td>0.000000</td>\n",
       "      <td>0.001000</td>\n",
       "      <td>0.100000</td>\n",
       "      <td>0.03900</td>\n",
       "      <td>0.067000</td>\n",
       "      <td>0.002613</td>\n",
       "    </tr>\n",
       "    <tr>\n",
       "      <th>25%</th>\n",
       "      <td>0.600153</td>\n",
       "      <td>23.125000</td>\n",
       "      <td>28.525000</td>\n",
       "      <td>1.000000</td>\n",
       "      <td>87.250000</td>\n",
       "      <td>1.000000</td>\n",
       "      <td>637.902500</td>\n",
       "      <td>0.100000</td>\n",
       "      <td>0.087250</td>\n",
       "      <td>0.100000</td>\n",
       "      <td>0.23125</td>\n",
       "      <td>0.285250</td>\n",
       "      <td>0.063790</td>\n",
       "    </tr>\n",
       "    <tr>\n",
       "      <th>50%</th>\n",
       "      <td>1.312782</td>\n",
       "      <td>25.600000</td>\n",
       "      <td>31.900000</td>\n",
       "      <td>1.000000</td>\n",
       "      <td>179.500000</td>\n",
       "      <td>2.000000</td>\n",
       "      <td>816.640000</td>\n",
       "      <td>0.100000</td>\n",
       "      <td>0.179500</td>\n",
       "      <td>0.200000</td>\n",
       "      <td>0.25600</td>\n",
       "      <td>0.319000</td>\n",
       "      <td>0.081664</td>\n",
       "    </tr>\n",
       "    <tr>\n",
       "      <th>75%</th>\n",
       "      <td>3.850000</td>\n",
       "      <td>31.450000</td>\n",
       "      <td>36.200000</td>\n",
       "      <td>1.000000</td>\n",
       "      <td>274.750000</td>\n",
       "      <td>2.000000</td>\n",
       "      <td>1036.605000</td>\n",
       "      <td>0.100000</td>\n",
       "      <td>0.274750</td>\n",
       "      <td>0.200000</td>\n",
       "      <td>0.31450</td>\n",
       "      <td>0.362000</td>\n",
       "      <td>0.103661</td>\n",
       "    </tr>\n",
       "    <tr>\n",
       "      <th>max</th>\n",
       "      <td>33.013504</td>\n",
       "      <td>78.700000</td>\n",
       "      <td>89.000000</td>\n",
       "      <td>1.000000</td>\n",
       "      <td>387.000000</td>\n",
       "      <td>3.000000</td>\n",
       "      <td>6193.690000</td>\n",
       "      <td>0.100000</td>\n",
       "      <td>0.387000</td>\n",
       "      <td>0.300000</td>\n",
       "      <td>0.78700</td>\n",
       "      <td>0.890000</td>\n",
       "      <td>0.619369</td>\n",
       "    </tr>\n",
       "  </tbody>\n",
       "</table>\n",
       "</div>"
      ],
      "text/plain": [
       "            PRICE      HEIGHT       WIDTH      SIGNED     PICTURE      HOUSE   \\\n",
       "count  430.000000  430.000000  430.000000  430.000000  430.000000  430.000000   \n",
       "mean     3.089996   27.646977   32.111395    0.820930  182.644186    1.611628   \n",
       "std      4.311260   10.097013   10.459677    0.383857  109.091529    0.591592   \n",
       "min      0.010413    3.900000    6.700000    0.000000    1.000000    1.000000   \n",
       "25%      0.600153   23.125000   28.525000    1.000000   87.250000    1.000000   \n",
       "50%      1.312782   25.600000   31.900000    1.000000  179.500000    2.000000   \n",
       "75%      3.850000   31.450000   36.200000    1.000000  274.750000    2.000000   \n",
       "max     33.013504   78.700000   89.000000    1.000000  387.000000    3.000000   \n",
       "\n",
       "       Area =H * W  norm SIGNED  norm PICTURE  norm HOUUSE  norm HEIGHT  \\\n",
       "count   430.000000   430.000000    430.000000   430.000000    430.00000   \n",
       "mean    940.811558     0.082093      0.182644     0.161163      0.27647   \n",
       "std     676.539289     0.038386      0.109092     0.059159      0.10097   \n",
       "min      26.130000     0.000000      0.001000     0.100000      0.03900   \n",
       "25%     637.902500     0.100000      0.087250     0.100000      0.23125   \n",
       "50%     816.640000     0.100000      0.179500     0.200000      0.25600   \n",
       "75%    1036.605000     0.100000      0.274750     0.200000      0.31450   \n",
       "max    6193.690000     0.100000      0.387000     0.300000      0.78700   \n",
       "\n",
       "       norm WIDTH   norm Area  \n",
       "count  430.000000  430.000000  \n",
       "mean     0.321114    0.094081  \n",
       "std      0.104597    0.067654  \n",
       "min      0.067000    0.002613  \n",
       "25%      0.285250    0.063790  \n",
       "50%      0.319000    0.081664  \n",
       "75%      0.362000    0.103661  \n",
       "max      0.890000    0.619369  "
      ]
     },
     "execution_count": 4,
     "metadata": {},
     "output_type": "execute_result"
    }
   ],
   "source": [
    "# Complete information about data\n",
    "df.info()\n",
    "\n",
    "# Data Exploration: Summarize Data\n",
    "df.describe()"
   ]
  },
  {
   "cell_type": "code",
   "execution_count": 5,
   "metadata": {},
   "outputs": [
    {
     "data": {
      "text/plain": [
       "PRICE           430\n",
       "HEIGHT          430\n",
       "WIDTH           430\n",
       "SIGNED          430\n",
       "PICTURE         430\n",
       "HOUSE           430\n",
       "Area =H * W     430\n",
       "norm SIGNED     430\n",
       "norm PICTURE    430\n",
       "norm HOUUSE     430\n",
       "norm HEIGHT     430\n",
       "norm WIDTH      430\n",
       "norm Area       430\n",
       "dtype: int64"
      ]
     },
     "execution_count": 5,
     "metadata": {},
     "output_type": "execute_result"
    }
   ],
   "source": [
    "# Shape\n",
    "df.shape\n",
    "# Count Rows\n",
    "df.count()"
   ]
  },
  {
   "cell_type": "code",
   "execution_count": 6,
   "metadata": {},
   "outputs": [
    {
     "data": {
      "text/html": [
       "<div>\n",
       "<style scoped>\n",
       "    .dataframe tbody tr th:only-of-type {\n",
       "        vertical-align: middle;\n",
       "    }\n",
       "\n",
       "    .dataframe tbody tr th {\n",
       "        vertical-align: top;\n",
       "    }\n",
       "\n",
       "    .dataframe thead th {\n",
       "        text-align: right;\n",
       "    }\n",
       "</style>\n",
       "<table border=\"1\" class=\"dataframe\">\n",
       "  <thead>\n",
       "    <tr style=\"text-align: right;\">\n",
       "      <th></th>\n",
       "      <th>PRICE</th>\n",
       "      <th>HEIGHT</th>\n",
       "      <th>WIDTH</th>\n",
       "      <th>SIGNED</th>\n",
       "      <th>PICTURE</th>\n",
       "      <th>HOUSE</th>\n",
       "      <th>Area =H * W</th>\n",
       "      <th>norm SIGNED</th>\n",
       "      <th>norm PICTURE</th>\n",
       "      <th>norm HOUUSE</th>\n",
       "      <th>norm HEIGHT</th>\n",
       "      <th>norm WIDTH</th>\n",
       "      <th>norm Area</th>\n",
       "    </tr>\n",
       "  </thead>\n",
       "  <tbody>\n",
       "    <tr>\n",
       "      <th>0</th>\n",
       "      <td>False</td>\n",
       "      <td>False</td>\n",
       "      <td>False</td>\n",
       "      <td>False</td>\n",
       "      <td>False</td>\n",
       "      <td>False</td>\n",
       "      <td>False</td>\n",
       "      <td>False</td>\n",
       "      <td>False</td>\n",
       "      <td>False</td>\n",
       "      <td>False</td>\n",
       "      <td>False</td>\n",
       "      <td>False</td>\n",
       "    </tr>\n",
       "    <tr>\n",
       "      <th>1</th>\n",
       "      <td>False</td>\n",
       "      <td>False</td>\n",
       "      <td>False</td>\n",
       "      <td>False</td>\n",
       "      <td>False</td>\n",
       "      <td>False</td>\n",
       "      <td>False</td>\n",
       "      <td>False</td>\n",
       "      <td>False</td>\n",
       "      <td>False</td>\n",
       "      <td>False</td>\n",
       "      <td>False</td>\n",
       "      <td>False</td>\n",
       "    </tr>\n",
       "    <tr>\n",
       "      <th>2</th>\n",
       "      <td>False</td>\n",
       "      <td>False</td>\n",
       "      <td>False</td>\n",
       "      <td>False</td>\n",
       "      <td>False</td>\n",
       "      <td>False</td>\n",
       "      <td>False</td>\n",
       "      <td>False</td>\n",
       "      <td>False</td>\n",
       "      <td>False</td>\n",
       "      <td>False</td>\n",
       "      <td>False</td>\n",
       "      <td>False</td>\n",
       "    </tr>\n",
       "    <tr>\n",
       "      <th>3</th>\n",
       "      <td>False</td>\n",
       "      <td>False</td>\n",
       "      <td>False</td>\n",
       "      <td>False</td>\n",
       "      <td>False</td>\n",
       "      <td>False</td>\n",
       "      <td>False</td>\n",
       "      <td>False</td>\n",
       "      <td>False</td>\n",
       "      <td>False</td>\n",
       "      <td>False</td>\n",
       "      <td>False</td>\n",
       "      <td>False</td>\n",
       "    </tr>\n",
       "    <tr>\n",
       "      <th>4</th>\n",
       "      <td>False</td>\n",
       "      <td>False</td>\n",
       "      <td>False</td>\n",
       "      <td>False</td>\n",
       "      <td>False</td>\n",
       "      <td>False</td>\n",
       "      <td>False</td>\n",
       "      <td>False</td>\n",
       "      <td>False</td>\n",
       "      <td>False</td>\n",
       "      <td>False</td>\n",
       "      <td>False</td>\n",
       "      <td>False</td>\n",
       "    </tr>\n",
       "  </tbody>\n",
       "</table>\n",
       "</div>"
      ],
      "text/plain": [
       "   PRICE  HEIGHT  WIDTH  SIGNED  PICTURE  HOUSE   Area =H * W  norm SIGNED  \\\n",
       "0  False   False  False   False    False   False        False        False   \n",
       "1  False   False  False   False    False   False        False        False   \n",
       "2  False   False  False   False    False   False        False        False   \n",
       "3  False   False  False   False    False   False        False        False   \n",
       "4  False   False  False   False    False   False        False        False   \n",
       "\n",
       "   norm PICTURE  norm HOUUSE  norm HEIGHT  norm WIDTH  norm Area  \n",
       "0         False        False        False       False      False  \n",
       "1         False        False        False       False      False  \n",
       "2         False        False        False       False      False  \n",
       "3         False        False        False       False      False  \n",
       "4         False        False        False       False      False  "
      ]
     },
     "execution_count": 6,
     "metadata": {},
     "output_type": "execute_result"
    }
   ],
   "source": [
    "# No Missing Values\n",
    "df.isnull().head()"
   ]
  },
  {
   "cell_type": "code",
   "execution_count": 7,
   "metadata": {},
   "outputs": [
    {
     "data": {
      "image/png": "[encoded data removed]",
      "text/plain": [
       "<Figure size 720x360 with 2 Axes>"
      ]
     },
     "metadata": {
      "needs_background": "light"
     },
     "output_type": "display_data"
    }
   ],
   "source": [
    "# Correlation Heatmap\n",
    "plt.figure(figsize = (10, 5))\n",
    "c = df.corr().iloc[0:430,0:430]\n",
    "sns.heatmap(c, cmap = \"BrBG\", annot = True)\n",
    "plt.title(\"Correlation Matrix\")\n",
    "plt.show()"
   ]
  },
  {
   "cell_type": "code",
   "execution_count": 8,
   "metadata": {},
   "outputs": [
    {
     "data": {
      "text/plain": [
       "<matplotlib.axes._subplots.AxesSubplot at 0x291908a8be0>"
      ]
     },
     "execution_count": 8,
     "metadata": {},
     "output_type": "execute_result"
    },
    {
     "data": {
      "image/png": "[encoded data removed]",
      "text/plain": [
       "<Figure size 432x288 with 1 Axes>"
      ]
     },
     "metadata": {
      "needs_background": "light"
     },
     "output_type": "display_data"
    }
   ],
   "source": [
    "sns.violinplot(x = \"Area =H * W\", y = \"PRICE\", data = df)"
   ]
  },
  {
   "cell_type": "code",
   "execution_count": 9,
   "metadata": {},
   "outputs": [
    {
     "data": {
      "text/html": [
       "<div>\n",
       "<style scoped>\n",
       "    .dataframe tbody tr th:only-of-type {\n",
       "        vertical-align: middle;\n",
       "    }\n",
       "\n",
       "    .dataframe tbody tr th {\n",
       "        vertical-align: top;\n",
       "    }\n",
       "\n",
       "    .dataframe thead th {\n",
       "        text-align: right;\n",
       "    }\n",
       "</style>\n",
       "<table border=\"1\" class=\"dataframe\">\n",
       "  <thead>\n",
       "    <tr style=\"text-align: right;\">\n",
       "      <th></th>\n",
       "      <th>HEIGHT</th>\n",
       "      <th>WIDTH</th>\n",
       "      <th>Area =H * W</th>\n",
       "    </tr>\n",
       "  </thead>\n",
       "  <tbody>\n",
       "    <tr>\n",
       "      <th>0</th>\n",
       "      <td>21.3</td>\n",
       "      <td>25.6</td>\n",
       "      <td>545.28</td>\n",
       "    </tr>\n",
       "    <tr>\n",
       "      <th>1</th>\n",
       "      <td>31.9</td>\n",
       "      <td>25.6</td>\n",
       "      <td>816.64</td>\n",
       "    </tr>\n",
       "    <tr>\n",
       "      <th>2</th>\n",
       "      <td>6.9</td>\n",
       "      <td>15.9</td>\n",
       "      <td>109.71</td>\n",
       "    </tr>\n",
       "    <tr>\n",
       "      <th>3</th>\n",
       "      <td>25.7</td>\n",
       "      <td>32.0</td>\n",
       "      <td>822.40</td>\n",
       "    </tr>\n",
       "    <tr>\n",
       "      <th>4</th>\n",
       "      <td>25.7</td>\n",
       "      <td>32.0</td>\n",
       "      <td>822.40</td>\n",
       "    </tr>\n",
       "  </tbody>\n",
       "</table>\n",
       "</div>"
      ],
      "text/plain": [
       "   HEIGHT  WIDTH  Area =H * W\n",
       "0    21.3   25.6       545.28\n",
       "1    31.9   25.6       816.64\n",
       "2     6.9   15.9       109.71\n",
       "3    25.7   32.0       822.40\n",
       "4    25.7   32.0       822.40"
      ]
     },
     "execution_count": 9,
     "metadata": {},
     "output_type": "execute_result"
    }
   ],
   "source": [
    "x = df[[\"HEIGHT\",\"WIDTH\",\"Area =H * W\"]]\n",
    "y = df[[\"PRICE\"]]\n",
    "x.head()"
   ]
  },
  {
   "cell_type": "code",
   "execution_count": 10,
   "metadata": {},
   "outputs": [],
   "source": [
    "from sklearn.model_selection import train_test_split\n",
    "xtrain,xtest,ytrain,ytest= train_test_split(x,y,test_size=0.2,random_state=42)\n",
    "from sklearn.linear_model import LinearRegression\n",
    "lr = LinearRegression()\n",
    "# importing regression algorithm as lr"
   ]
  },
  {
   "cell_type": "markdown",
   "metadata": {},
   "source": [
    "# I trained the 80% train data and i used 20% of test data for testing."
   ]
  },
  {
   "cell_type": "code",
   "execution_count": 11,
   "metadata": {},
   "outputs": [
    {
     "data": {
      "text/plain": [
       "LinearRegression()"
      ]
     },
     "execution_count": 11,
     "metadata": {},
     "output_type": "execute_result"
    }
   ],
   "source": [
    "lr.fit(x, y)"
   ]
  },
  {
   "cell_type": "code",
   "execution_count": 12,
   "metadata": {},
   "outputs": [
    {
     "data": {
      "text/plain": [
       "LinearRegression()"
      ]
     },
     "execution_count": 12,
     "metadata": {},
     "output_type": "execute_result"
    }
   ],
   "source": [
    "lr.fit(xtrain,ytrain)"
   ]
  },
  {
   "cell_type": "code",
   "execution_count": 13,
   "metadata": {},
   "outputs": [
    {
     "name": "stdout",
     "output_type": "stream",
     "text": [
      "Training score\n",
      "0.1571927984933723\n",
      "Test score\n",
      "0.13151080508270852\n"
     ]
    }
   ],
   "source": [
    "print('Training score')\n",
    "print(lr.score(xtrain, ytrain))\n",
    "print('Test score')\n",
    "print(lr.score(xtest, ytest))\n",
    "# the both values should similar or near, othervice there will be accuracy error\n"
   ]
  },
  {
   "cell_type": "code",
   "execution_count": 14,
   "metadata": {},
   "outputs": [
    {
     "data": {
      "image/png": "[encoded data removed]",
      "text/plain": [
       "<Figure size 432x288 with 1 Axes>"
      ]
     },
     "metadata": {
      "needs_background": "light"
     },
     "output_type": "display_data"
    },
    {
     "data": {
      "image/png": "[encoded data removed]",
      "text/plain": [
       "<Figure size 432x288 with 1 Axes>"
      ]
     },
     "metadata": {
      "needs_background": "light"
     },
     "output_type": "display_data"
    },
    {
     "data": {
      "text/plain": [
       "<function matplotlib.pyplot.show(*args, **kw)>"
      ]
     },
     "execution_count": 14,
     "metadata": {},
     "output_type": "execute_result"
    },
    {
     "data": {
      "image/png": "[encoded data removed]",
      "text/plain": [
       "<Figure size 432x288 with 1 Axes>"
      ]
     },
     "metadata": {
      "needs_background": "light"
     },
     "output_type": "display_data"
    }
   ],
   "source": [
    "# Now, lets plot each of these Credit Transfers (in million) vs GDP(billions) the , to see how linear is their relation:\n",
    "plt.scatter( x = df[\"HEIGHT\"], y = df[\"PRICE\"])\n",
    "plt.xlabel(\"HEIGHT\")\n",
    "plt.ylabel(\"PRICE\")\n",
    "plt.show()\n",
    "plt.scatter(x = df[\"WIDTH\"], y = df[\"PRICE\"])\n",
    "plt.xlabel(\"WIDTH \")\n",
    "plt.ylabel(\"PRICE\")\n",
    "plt.show()\n",
    "plt.scatter(x = df[\"Area =H * W\"], y = df[\"PRICE\"])\n",
    "plt.xlabel(\"Area =H * W\")\n",
    "plt.ylabel(\"PRICE\")\n",
    "plt.show"
   ]
  },
  {
   "cell_type": "markdown",
   "metadata": {},
   "source": [
    "## Unlike regression we are providing x value with multiple variables for accurate prediction of y value, this makes it Multiple regression"
   ]
  },
  {
   "cell_type": "code",
   "execution_count": 15,
   "metadata": {},
   "outputs": [
    {
     "data": {
      "text/html": [
       "<div>\n",
       "<style scoped>\n",
       "    .dataframe tbody tr th:only-of-type {\n",
       "        vertical-align: middle;\n",
       "    }\n",
       "\n",
       "    .dataframe tbody tr th {\n",
       "        vertical-align: top;\n",
       "    }\n",
       "\n",
       "    .dataframe thead th {\n",
       "        text-align: right;\n",
       "    }\n",
       "</style>\n",
       "<table border=\"1\" class=\"dataframe\">\n",
       "  <thead>\n",
       "    <tr style=\"text-align: right;\">\n",
       "      <th></th>\n",
       "      <th>Actual</th>\n",
       "      <th>Predicted</th>\n",
       "    </tr>\n",
       "  </thead>\n",
       "  <tbody>\n",
       "    <tr>\n",
       "      <th>0</th>\n",
       "      <td>3.993780</td>\n",
       "      <td>2.115939</td>\n",
       "    </tr>\n",
       "    <tr>\n",
       "      <th>1</th>\n",
       "      <td>8.800000</td>\n",
       "      <td>2.441703</td>\n",
       "    </tr>\n",
       "    <tr>\n",
       "      <th>2</th>\n",
       "      <td>0.131694</td>\n",
       "      <td>0.849347</td>\n",
       "    </tr>\n",
       "    <tr>\n",
       "      <th>3</th>\n",
       "      <td>2.037500</td>\n",
       "      <td>2.939304</td>\n",
       "    </tr>\n",
       "    <tr>\n",
       "      <th>4</th>\n",
       "      <td>1.487500</td>\n",
       "      <td>2.939304</td>\n",
       "    </tr>\n",
       "    <tr>\n",
       "      <th>5</th>\n",
       "      <td>1.870000</td>\n",
       "      <td>2.924722</td>\n",
       "    </tr>\n",
       "    <tr>\n",
       "      <th>6</th>\n",
       "      <td>5.282500</td>\n",
       "      <td>3.317836</td>\n",
       "    </tr>\n",
       "    <tr>\n",
       "      <th>7</th>\n",
       "      <td>5.065750</td>\n",
       "      <td>3.198958</td>\n",
       "    </tr>\n",
       "    <tr>\n",
       "      <th>8</th>\n",
       "      <td>1.375000</td>\n",
       "      <td>3.386551</td>\n",
       "    </tr>\n",
       "  </tbody>\n",
       "</table>\n",
       "</div>"
      ],
      "text/plain": [
       "     Actual  Predicted\n",
       "0  3.993780   2.115939\n",
       "1  8.800000   2.441703\n",
       "2  0.131694   0.849347\n",
       "3  2.037500   2.939304\n",
       "4  1.487500   2.939304\n",
       "5  1.870000   2.924722\n",
       "6  5.282500   3.317836\n",
       "7  5.065750   3.198958\n",
       "8  1.375000   3.386551"
      ]
     },
     "execution_count": 15,
     "metadata": {},
     "output_type": "execute_result"
    }
   ],
   "source": [
    "# Prediction\n",
    "x = df[[\"WIDTH\",\"Area =H * W\"]]\n",
    "y = df[\"PRICE\"]\n",
    "lr = LinearRegression()\n",
    "lr.fit(x, y)\n",
    "yhat = lr.predict(x)\n",
    "pd.DataFrame({\"Actual\": y, \"Predicted\": yhat}).head(9)"
   ]
  },
  {
   "cell_type": "code",
   "execution_count": 16,
   "metadata": {},
   "outputs": [
    {
     "name": "stdout",
     "output_type": "stream",
     "text": [
      "width Area =H * W 25.6 545.28  features of a painting \n",
      "2.1159389998220046 price in dollars\n"
     ]
    }
   ],
   "source": [
    "print(\"width\",\"Area =H * W\",25.6,545.28,\" features of a painting \")\n",
    "print(lr.predict([[25.6,545.28]])[0] , \"price in dollars\")"
   ]
  },
  {
   "cell_type": "code",
   "execution_count": 17,
   "metadata": {},
   "outputs": [
    {
     "data": {
      "text/plain": [
       "0.1299359460823426"
      ]
     },
     "execution_count": 17,
     "metadata": {},
     "output_type": "execute_result"
    }
   ],
   "source": [
    "# accuracy_score calculation\n",
    "\n",
    "r_squared = lr.score(x, y)\n",
    "r_squared"
   ]
  },
  {
   "cell_type": "code",
   "execution_count": null,
   "metadata": {},
   "outputs": [],
   "source": []
  },
  {
   "cell_type": "markdown",
   "metadata": {},
   "source": [
    "# Taking Normalization data into consideration "
   ]
  },
  {
   "cell_type": "code",
   "execution_count": 18,
   "metadata": {},
   "outputs": [
    {
     "data": {
      "text/html": [
       "<div>\n",
       "<style scoped>\n",
       "    .dataframe tbody tr th:only-of-type {\n",
       "        vertical-align: middle;\n",
       "    }\n",
       "\n",
       "    .dataframe tbody tr th {\n",
       "        vertical-align: top;\n",
       "    }\n",
       "\n",
       "    .dataframe thead th {\n",
       "        text-align: right;\n",
       "    }\n",
       "</style>\n",
       "<table border=\"1\" class=\"dataframe\">\n",
       "  <thead>\n",
       "    <tr style=\"text-align: right;\">\n",
       "      <th></th>\n",
       "      <th>norm HEIGHT</th>\n",
       "      <th>norm WIDTH</th>\n",
       "      <th>norm Area</th>\n",
       "    </tr>\n",
       "  </thead>\n",
       "  <tbody>\n",
       "    <tr>\n",
       "      <th>0</th>\n",
       "      <td>0.213</td>\n",
       "      <td>0.256</td>\n",
       "      <td>0.054528</td>\n",
       "    </tr>\n",
       "    <tr>\n",
       "      <th>1</th>\n",
       "      <td>0.319</td>\n",
       "      <td>0.256</td>\n",
       "      <td>0.081664</td>\n",
       "    </tr>\n",
       "    <tr>\n",
       "      <th>2</th>\n",
       "      <td>0.069</td>\n",
       "      <td>0.159</td>\n",
       "      <td>0.010971</td>\n",
       "    </tr>\n",
       "    <tr>\n",
       "      <th>3</th>\n",
       "      <td>0.257</td>\n",
       "      <td>0.320</td>\n",
       "      <td>0.082240</td>\n",
       "    </tr>\n",
       "    <tr>\n",
       "      <th>4</th>\n",
       "      <td>0.257</td>\n",
       "      <td>0.320</td>\n",
       "      <td>0.082240</td>\n",
       "    </tr>\n",
       "  </tbody>\n",
       "</table>\n",
       "</div>"
      ],
      "text/plain": [
       "   norm HEIGHT  norm WIDTH  norm Area\n",
       "0        0.213       0.256   0.054528\n",
       "1        0.319       0.256   0.081664\n",
       "2        0.069       0.159   0.010971\n",
       "3        0.257       0.320   0.082240\n",
       "4        0.257       0.320   0.082240"
      ]
     },
     "execution_count": 18,
     "metadata": {},
     "output_type": "execute_result"
    }
   ],
   "source": [
    "x1 = df[[\"norm HEIGHT\",\"norm WIDTH\",\"norm Area\"]]\n",
    "y1 = df[[\"PRICE\"]]\n",
    "x1.head()"
   ]
  },
  {
   "cell_type": "code",
   "execution_count": 19,
   "metadata": {},
   "outputs": [],
   "source": [
    "from sklearn.model_selection import train_test_split\n",
    "xtrain,xtest,ytrain,ytest= train_test_split(x,y,test_size=0.2,random_state=42)\n",
    "from sklearn.linear_model import LinearRegression\n",
    "lr = LinearRegression()\n",
    "# importing regression algorithm as lr"
   ]
  },
  {
   "cell_type": "code",
   "execution_count": 20,
   "metadata": {},
   "outputs": [
    {
     "data": {
      "text/plain": [
       "LinearRegression()"
      ]
     },
     "execution_count": 20,
     "metadata": {},
     "output_type": "execute_result"
    }
   ],
   "source": [
    "lr.fit(x, y)"
   ]
  },
  {
   "cell_type": "code",
   "execution_count": 21,
   "metadata": {},
   "outputs": [
    {
     "data": {
      "text/plain": [
       "LinearRegression()"
      ]
     },
     "execution_count": 21,
     "metadata": {},
     "output_type": "execute_result"
    }
   ],
   "source": [
    "lr.fit(xtrain,ytrain)"
   ]
  },
  {
   "cell_type": "code",
   "execution_count": 22,
   "metadata": {},
   "outputs": [
    {
     "ename": "TypeError",
     "evalue": "scatter() missing 2 required positional arguments: 'x' and 'y'",
     "output_type": "error",
     "traceback": [
      "\u001b[1;31m---------------------------------------------------------------------------\u001b[0m",
      "\u001b[1;31mTypeError\u001b[0m                                 Traceback (most recent call last)",
      "\u001b[1;32m<ipython-input-22-e1a76f78e047>\u001b[0m in \u001b[0;36m<module>\u001b[1;34m\u001b[0m\n\u001b[0;32m      1\u001b[0m \u001b[1;31m# Now, lets plot each of these Credit Transfers (in million) vs GDP(billions) the , to see how linear is their relation:\u001b[0m\u001b[1;33m\u001b[0m\u001b[1;33m\u001b[0m\u001b[1;33m\u001b[0m\u001b[0m\n\u001b[1;32m----> 2\u001b[1;33m \u001b[0mplt\u001b[0m\u001b[1;33m.\u001b[0m\u001b[0mscatter\u001b[0m\u001b[1;33m(\u001b[0m \u001b[0mx1\u001b[0m \u001b[1;33m=\u001b[0m \u001b[0mdf\u001b[0m\u001b[1;33m[\u001b[0m\u001b[1;34m\"norm HEIGHT\"\u001b[0m\u001b[1;33m]\u001b[0m\u001b[1;33m,\u001b[0m \u001b[0my1\u001b[0m \u001b[1;33m=\u001b[0m \u001b[0mdf\u001b[0m\u001b[1;33m[\u001b[0m\u001b[1;34m\"PRICE\"\u001b[0m\u001b[1;33m]\u001b[0m\u001b[1;33m)\u001b[0m\u001b[1;33m\u001b[0m\u001b[1;33m\u001b[0m\u001b[0m\n\u001b[0m\u001b[0;32m      3\u001b[0m \u001b[0mplt\u001b[0m\u001b[1;33m.\u001b[0m\u001b[0mxlabel\u001b[0m\u001b[1;33m(\u001b[0m\u001b[1;34m\"norm HEIGHT\"\u001b[0m\u001b[1;33m)\u001b[0m\u001b[1;33m\u001b[0m\u001b[1;33m\u001b[0m\u001b[0m\n\u001b[0;32m      4\u001b[0m \u001b[0mplt\u001b[0m\u001b[1;33m.\u001b[0m\u001b[0mylabel\u001b[0m\u001b[1;33m(\u001b[0m\u001b[1;34m\"PRICE\"\u001b[0m\u001b[1;33m)\u001b[0m\u001b[1;33m\u001b[0m\u001b[1;33m\u001b[0m\u001b[0m\n\u001b[0;32m      5\u001b[0m \u001b[0mplt\u001b[0m\u001b[1;33m.\u001b[0m\u001b[0mshow\u001b[0m\u001b[1;33m(\u001b[0m\u001b[1;33m)\u001b[0m\u001b[1;33m\u001b[0m\u001b[1;33m\u001b[0m\u001b[0m\n",
      "\u001b[1;31mTypeError\u001b[0m: scatter() missing 2 required positional arguments: 'x' and 'y'"
     ]
    }
   ],
   "source": [
    "# Now, lets plot each of these Credit Transfers (in million) vs GDP(billions) the , to see how linear is their relation:\n",
    "plt.scatter( x1 = df[\"norm HEIGHT\"], y1 = df[\"PRICE\"])\n",
    "plt.xlabel(\"norm HEIGHT\")\n",
    "plt.ylabel(\"PRICE\")\n",
    "plt.show()\n",
    "plt.scatter(x1 = df[\"norm WIDTH\"], y1 = df[\"PRICE\"])\n",
    "plt.xlabel(\"norm WIDTH\")\n",
    "plt.ylabel(\"PRICE\")\n",
    "plt.show()\n",
    "plt.scatter(x1 = df[\"norm Area\"], y1 = df[\"PRICE\"])\n",
    "plt.xlabel(\"norm Area\")\n",
    "plt.ylabel(\"PRICE\")\n",
    "plt.show"
   ]
  },
  {
   "cell_type": "code",
   "execution_count": null,
   "metadata": {},
   "outputs": [],
   "source": [
    "# Prediction\n",
    "x = df[[\"norm HEIGHT\",\"norm WIDTH\",\"norm Area\"]]\n",
    "y = df[\"PRICE\"]\n",
    "lr = LinearRegression()\n",
    "lr.fit(x, y)\n",
    "yhat = lr.predict(x)\n",
    "pd.DataFrame({\"Actual\": y, \"Predicted\": yhat}).head(9)"
   ]
  },
  {
   "cell_type": "code",
   "execution_count": null,
   "metadata": {},
   "outputs": [],
   "source": [
    "print(\"norm width\",\"norm Area =H * W\",0.256,0.545,\" features of a painting \")\n",
    "print(lr.predict([[0.256,0.545]])[0] , \"price in dollars\")"
   ]
  },
  {
   "cell_type": "code",
   "execution_count": null,
   "metadata": {},
   "outputs": [],
   "source": []
  },
  {
   "cell_type": "markdown",
   "metadata": {},
   "source": [
    "# simple linear regression"
   ]
  },
  {
   "cell_type": "code",
   "execution_count": null,
   "metadata": {},
   "outputs": [],
   "source": []
  },
  {
   "cell_type": "code",
   "execution_count": null,
   "metadata": {},
   "outputs": [],
   "source": [
    "x2 = df[['Area =H * W']]\n",
    "y2 =df[['PRICE']]"
   ]
  },
  {
   "cell_type": "code",
   "execution_count": null,
   "metadata": {},
   "outputs": [],
   "source": [
    "from sklearn.model_selection import train_test_split\n",
    "xtrain,xtest,ytrain,ytest= train_test_split(x,y,test_size=0.2,random_state=42)\n",
    "from sklearn.linear_model import LinearRegression\n",
    "lm= LinearRegression()\n",
    "# importing regression algorithm as ml"
   ]
  },
  {
   "cell_type": "code",
   "execution_count": null,
   "metadata": {},
   "outputs": [],
   "source": [
    "lm.fit(xtrain,ytrain)"
   ]
  },
  {
   "cell_type": "code",
   "execution_count": null,
   "metadata": {},
   "outputs": [],
   "source": [
    "print('Training score')\n",
    "print(lm.score(xtrain, ytrain))\n",
    "print('Test score')\n",
    "print(lm.score(xtest, ytest))\n",
    "# the both values should similar or near, othervice there will be accuracy error\n"
   ]
  },
  {
   "cell_type": "code",
   "execution_count": null,
   "metadata": {},
   "outputs": [],
   "source": [
    "# Plotting the regression line\n",
    "line = lm.coef_*x+lm.intercept_\n",
    "\n",
    "# Plotting for the test data\n",
    "plt.scatter(x2, y2)\n",
    "plt.plot(x2, line);\n",
    "plt.title(' Area vs PRICE')\n",
    "plt.xlabel('Area =H * W')\n",
    "plt.ylabel('PRICE')"
   ]
  },
  {
   "cell_type": "code",
   "execution_count": null,
   "metadata": {},
   "outputs": [],
   "source": [
    "relation = df.corr().iloc[0:3,0:3]\n",
    "sns.heatmap(relation, annot=True, cmap='autumn') \n",
    "plt.show()"
   ]
  },
  {
   "cell_type": "code",
   "execution_count": null,
   "metadata": {},
   "outputs": [],
   "source": [
    "ypred= lm.predict(xtest)\n",
    "ytest # these are test case values"
   ]
  },
  {
   "cell_type": "code",
   "execution_count": null,
   "metadata": {},
   "outputs": [],
   "source": [
    "ypred # these are predicted values"
   ]
  },
  {
   "cell_type": "code",
   "execution_count": null,
   "metadata": {},
   "outputs": [],
   "source": [
    "print(\"for area\",545.28)\n",
    "print(\"PRICE \",lm.predict([545.28]), \"in dollar's \")"
   ]
  },
  {
   "cell_type": "code",
   "execution_count": null,
   "metadata": {},
   "outputs": [],
   "source": [
    "# accuracy_score calculation\n",
    "\n",
    "r_squared = lm.score(x, y)\n",
    "r_squared"
   ]
  },
  {
   "cell_type": "code",
   "execution_count": null,
   "metadata": {},
   "outputs": [],
   "source": []
  },
  {
   "cell_type": "code",
   "execution_count": null,
   "metadata": {},
   "outputs": [],
   "source": []
  },
  {
   "cell_type": "code",
   "execution_count": null,
   "metadata": {},
   "outputs": [],
   "source": []
  },
  {
   "cell_type": "code",
   "execution_count": null,
   "metadata": {},
   "outputs": [],
   "source": []
  },
  {
   "cell_type": "code",
   "execution_count": null,
   "metadata": {},
   "outputs": [],
   "source": []
  }
 ],
 "metadata": {
  "kernelspec": {
   "display_name": "Python 3",
   "language": "python",
   "name": "python3"
  },
  "language_info": {
   "codemirror_mode": {
    "name": "ipython",
    "version": 3
   },
   "file_extension": ".py",
   "mimetype": "text/x-python",
   "name": "python",
   "nbconvert_exporter": "python",
   "pygments_lexer": "ipython3",
   "version": "3.8.3"
  }
 },
 "nbformat": 4,
 "nbformat_minor": 4
}
